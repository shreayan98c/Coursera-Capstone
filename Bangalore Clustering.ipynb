{
 "cells": [
  {
   "cell_type": "markdown",
   "metadata": {},
   "source": [
    "# A recommendation system for setting up a new restaurant / eatery focussed primarily on the corporate demographic (based on employee count and location of corporate offices in Bangalore, India)"
   ]
  },
  {
   "cell_type": "markdown",
   "metadata": {},
   "source": [
    "## Brief Introduction"
   ]
  },
  {
   "cell_type": "markdown",
   "metadata": {},
   "source": [
    "## Part 1: Description of problem"
   ]
  },
  {
   "cell_type": "markdown",
   "metadata": {},
   "source": [
    "### India is an extremely densely populated country (one of the most dense), with more than 1.34 billion residents.\n",
    "### Obviously it is difficult to start a business here due to high real estate costs. \n",
    "### So, an entrepreneur aiming at a corporate centric market should know the best places to set up shop."
   ]
  },
  {
   "cell_type": "markdown",
   "metadata": {},
   "source": [
    "### A large population of Bangalore lies in this corporate demographic (more than 200 corporations), and 800+ startups, so eating snack foods out is more popular and convenient than ever, hence goal is to find the best places in Bangalore to setup a new food shop/ restaurant.\n",
    "### The example chosen is for Bangalore, but this project can be used for various different locations like Chennai, Mumbai, Delhi etc."
   ]
  },
  {
   "cell_type": "markdown",
   "metadata": {},
   "source": [
    "### The objective is to find the optimal location for setting up a new business (based on location of offices, eateries in Bangalore, India). "
   ]
  },
  {
   "cell_type": "markdown",
   "metadata": {},
   "source": [
    "### Target audience: \n",
    "### Entrepreneurs and small-scale businessmen/women interested in the food/ snacks industry, aiming at the corporate demographic for maximising profits."
   ]
  },
  {
   "cell_type": "markdown",
   "metadata": {},
   "source": [
    " #   "
   ]
  },
  {
   "cell_type": "markdown",
   "metadata": {},
   "source": [
    "## Part 2: Data that is needed, and process"
   ]
  },
  {
   "cell_type": "markdown",
   "metadata": {},
   "source": [
    "### 1. We need a list of the corporate offices in Bangalore. Their latitude and longitude will be calculated using Geopy Nominatim (a Python Library).\n",
    "\n",
    "This data can be found on Wikipedia, as well as many other websites.\n",
    "\n",
    "For instance: https://en.wikipedia.org/wiki/Category:Companies_based_in_Bangalore"
   ]
  },
  {
   "cell_type": "markdown",
   "metadata": {},
   "source": [
    "### 2. **Then we can use the FourSquare API to find the number of eateries in a 1km radius around each office.** The API will provide us with Postal Code, Neighborhood, Venue, Venue Summary and Venue Category.\n",
    "\n",
    "Foursquare is a local search-and-discovery service mobile app which provides search results for its users (Wikipedia). It has more than 60 million users."
   ]
  },
  {
   "cell_type": "markdown",
   "metadata": {},
   "source": [
    "### 3. Processing the Retrieved data and creating a structured DataFrame for all the venues, grouped by offices. "
   ]
  },
  {
   "cell_type": "markdown",
   "metadata": {},
   "source": [
    "### 4. Selecting relevant venues (food related only).\n",
    "\n",
    "### **The offices with highest ratio of `(no. of employees)/(no. of eateries)` would be the best places to start a restaurant.** (supply and demand)\n",
    "\n",
    "We can also create clusters of most highly student populated areas"
   ]
  },
  {
   "cell_type": "markdown",
   "metadata": {},
   "source": [
    "### Imports"
   ]
  },
  {
   "cell_type": "code",
   "execution_count": 1,
   "metadata": {},
   "outputs": [
    {
     "name": "stdout",
     "output_type": "stream",
     "text": [
      "Libraries imported.\n"
     ]
    }
   ],
   "source": [
    "import requests  # library to handle requests\n",
    "import pandas as pd  # library for data analsysis\n",
    "import numpy as np  # library to handle data in a vectorized manner\n",
    "import random  # library for random number generation\n",
    "import string # Manipulation of name for Folium Map\n",
    "# module to convert an address into latitude and longitude values\n",
    "from geopy.geocoders import Nominatim\n",
    "\n",
    "# libraries for displaying images\n",
    "from IPython.display import Image\n",
    "from IPython.core.display import HTML\n",
    "\n",
    "# tranforming json file into a pandas dataframe library\n",
    "from pandas.io.json import json_normalize\n",
    "import folium  # plotting library\n",
    "\n",
    "from sklearn.cluster import KMeans # for clustering\n",
    "\n",
    "print('Libraries imported.')"
   ]
  },
  {
   "cell_type": "markdown",
   "metadata": {},
   "source": [
    "### Declaring API keys"
   ]
  },
  {
   "cell_type": "code",
   "execution_count": 2,
   "metadata": {},
   "outputs": [
    {
     "name": "stdout",
     "output_type": "stream",
     "text": [
      "Your credentails:\n",
      "CLIENT_ID: 1NW3OMZEIVJXCFGGIYLXLLH4CQWIYX3GSO4ERVDST4FXYI4E\n",
      "CLIENT_SECRET:NNWGYNG2RFCIPLNG0ER4BNC15GPE2CSY10UA32BJFCBYOO0Y\n"
     ]
    }
   ],
   "source": [
    "CLIENT_ID = '1NW3OMZEIVJXCFGGIYLXLLH4CQWIYX3GSO4ERVDST4FXYI4E'  # your Foursquare ID\n",
    "# your Foursquare Secret\n",
    "CLIENT_SECRET = 'NNWGYNG2RFCIPLNG0ER4BNC15GPE2CSY10UA32BJFCBYOO0Y'\n",
    "VERSION = '20180604'\n",
    "LIMIT = 40\n",
    "print('Your credentails:')\n",
    "print('CLIENT_ID: ' + CLIENT_ID)\n",
    "print('CLIENT_SECRET:' + CLIENT_SECRET)"
   ]
  },
  {
   "cell_type": "markdown",
   "metadata": {},
   "source": [
    "### Listing the offices we will study"
   ]
  },
  {
   "cell_type": "code",
   "execution_count": 3,
   "metadata": {},
   "outputs": [
    {
     "name": "stdout",
     "output_type": "stream",
     "text": [
      "34\n"
     ]
    }
   ],
   "source": [
    "offices = ['Amazon','Infosys','Dell','HP','Tech Mahindra','SAP','Samsung R&D','Accenture','Wipro','TCS', 'IBM','Oracle',\n",
    "           'Cognizant','Capgemini','Cisco','Mindtree','HCL','Mu Sigma','Robert Bosch','Thomson Reuters','Honeywell','CGI',\n",
    "           'Mphasis','EY','Deloitte','Nokia','Intel','Huawei','Goldman Sachs','Flipkart','KPMG','Zomato','Swiggy','HP']\n",
    "print(len(offices))"
   ]
  },
  {
   "cell_type": "code",
   "execution_count": 4,
   "metadata": {},
   "outputs": [
    {
     "name": "stdout",
     "output_type": "stream",
     "text": [
      "Amazon\n",
      "Infosys\n",
      "Dell\n",
      "HP\n",
      "Tech Mahindra\n",
      "SAP\n",
      "Samsung R&D\n",
      "Accenture\n",
      "Wipro\n",
      "TCS\n",
      "IBM\n",
      "Oracle\n",
      "Cognizant\n",
      "Capgemini\n",
      "Cisco\n",
      "Mindtree\n",
      "HCL\n",
      "Mu Sigma\n",
      "Robert Bosch\n",
      "Thomson Reuters\n",
      "Honeywell\n",
      "CGI\n",
      "Mphasis\n",
      "EY\n",
      "Deloitte\n",
      "Nokia\n",
      "Intel\n",
      "Huawei\n",
      "Goldman Sachs\n",
      "Flipkart\n",
      "KPMG\n",
      "Zomato\n",
      "Swiggy\n",
      "HP\n"
     ]
    }
   ],
   "source": [
    "for i in offices:\n",
    "    print(i)"
   ]
  },
  {
   "cell_type": "markdown",
   "metadata": {},
   "source": [
    "### Adding 'Bangalore' to each institute to help Nominatim find latitude and longitude easily"
   ]
  },
  {
   "cell_type": "code",
   "execution_count": 5,
   "metadata": {
    "scrolled": true
   },
   "outputs": [
    {
     "name": "stdout",
     "output_type": "stream",
     "text": [
      "['Amazon Bangalore', 'Infosys Bangalore', 'Dell Bangalore', 'HP Bangalore', 'Tech Mahindra Bangalore']\n"
     ]
    }
   ],
   "source": [
    "offices = [x+\" Bangalore\" for x in offices]\n",
    "print(offices[:5])"
   ]
  },
  {
   "cell_type": "markdown",
   "metadata": {},
   "source": [
    "### Function to get latitude and longitude of each institute"
   ]
  },
  {
   "cell_type": "code",
   "execution_count": 6,
   "metadata": {},
   "outputs": [],
   "source": [
    "def coords(office):\n",
    "    d = {}\n",
    "    d['office'] = office\n",
    "    geolocator = Nominatim(user_agent='myapplication')\n",
    "    try:\n",
    "        location = geolocator.geocode(office).raw\n",
    "        d['latitude'] = location['lat']\n",
    "        d['longitude'] = location['lon']\n",
    "        return d\n",
    "    except Exception as e:\n",
    "        print(\"Office %s not found\"%office)\n",
    "        return -1"
   ]
  },
  {
   "cell_type": "code",
   "execution_count": 7,
   "metadata": {},
   "outputs": [
    {
     "name": "stdout",
     "output_type": "stream",
     "text": [
      "Office HCL Bangalore not found\n",
      "Office Mu Sigma Bangalore not found\n",
      "Office Robert Bosch Bangalore not found\n",
      "Office Thomson Reuters Bangalore not found\n",
      "Office Mphasis Bangalore not found\n",
      "Office Goldman Sachs Bangalore not found\n",
      "Office Zomato Bangalore not found\n",
      "Office Swiggy Bangalore not found\n",
      "[{'office': 'Amazon Bangalore', 'latitude': '12.9795028', 'longitude': '77.6959454'}, {'office': 'Infosys Bangalore', 'latitude': '12.84508845', 'longitude': '77.6649530443891'}, {'office': 'Dell Bangalore', 'latitude': '12.9383649', 'longitude': '77.629499'}, {'office': 'HP Bangalore', 'latitude': '12.99646925', 'longitude': '77.6888267135983'}, {'office': 'Tech Mahindra Bangalore', 'latitude': '12.85094555', 'longitude': '77.6778630567074'}, {'office': 'SAP Bangalore', 'latitude': '12.9608001', 'longitude': '77.6372345'}, {'office': 'Samsung R&D Bangalore', 'latitude': '13.0043687', 'longitude': '77.5524019'}, {'office': 'Accenture Bangalore', 'latitude': '12.9678934', 'longitude': '77.7240130513179'}, {'office': 'Wipro Bangalore', 'latitude': '12.9135669', 'longitude': '77.6856346215575'}, {'office': 'TCS Bangalore', 'latitude': '12.84830835', 'longitude': '77.6789892079896'}, {'office': 'IBM Bangalore', 'latitude': '13.0495985', 'longitude': '77.6213264'}, {'office': 'Oracle Bangalore', 'latitude': '12.9306794', 'longitude': '77.6100855552236'}, {'office': 'Cognizant Bangalore', 'latitude': '12.97941415', 'longitude': '77.6635424073171'}, {'office': 'Capgemini Bangalore', 'latitude': '12.9928713', 'longitude': '77.7034566'}, {'office': 'Cisco Bangalore', 'latitude': '12.9314394', 'longitude': '77.6913134'}, {'office': 'Mindtree Bangalore', 'latitude': '12.91834955', 'longitude': '77.5020134870256'}, -1, {'office': 'Honeywell Bangalore', 'latitude': '12.91959615', 'longitude': '77.6861506506649'}, {'office': 'CGI Bangalore', 'latitude': '12.9483819', 'longitude': '77.6892497'}, {'office': 'EY Bangalore', 'latitude': '12.9799633', 'longitude': '77.6959069'}, {'office': 'Deloitte Bangalore', 'latitude': '12.9864631', 'longitude': '77.5876251'}, {'office': 'Nokia Bangalore', 'latitude': '13.051238', 'longitude': '77.6202024'}, {'office': 'Intel Bangalore', 'latitude': '12.9273327', 'longitude': '77.684308404235'}, {'office': 'Huawei Bangalore', 'latitude': '12.96924415', 'longitude': '77.7268358'}, {'office': 'Flipkart Bangalore', 'latitude': '12.9283777', 'longitude': '77.6327535755866'}, {'office': 'KPMG Bangalore', 'latitude': '12.9259371', 'longitude': '77.6867619'}, {'office': 'HP Bangalore', 'latitude': '12.99646925', 'longitude': '77.6888267135983'}]\n",
      "27\n"
     ]
    }
   ],
   "source": [
    "offices_list = []\n",
    "for i in offices:\n",
    "    details = coords(i)\n",
    "    if(details!=-1):\n",
    "        offices_list.append(coords(i))\n",
    "print(offices_list)\n",
    "print(len(offices_list))"
   ]
  },
  {
   "cell_type": "markdown",
   "metadata": {},
   "source": [
    "### We were able to find the locations of 27 organizations"
   ]
  },
  {
   "cell_type": "markdown",
   "metadata": {},
   "source": [
    "### Latitude and Longitude of Bangalore, India"
   ]
  },
  {
   "cell_type": "code",
   "execution_count": 9,
   "metadata": {},
   "outputs": [],
   "source": [
    "ban_lat = 12.9716\n",
    "ban_lon = 77.5946"
   ]
  },
  {
   "cell_type": "markdown",
   "metadata": {},
   "source": [
    "### Plotting all the institutes that we are considering"
   ]
  },
  {
   "cell_type": "code",
   "execution_count": 16,
   "metadata": {},
   "outputs": [
    {
     "ename": "TypeError",
     "evalue": "'int' object is not subscriptable",
     "output_type": "error",
     "traceback": [
      "\u001b[1;31m---------------------------------------------------------------------------\u001b[0m",
      "\u001b[1;31mTypeError\u001b[0m                                 Traceback (most recent call last)",
      "\u001b[1;32m<ipython-input-16-1ccdd857a371>\u001b[0m in \u001b[0;36m<module>\u001b[1;34m\u001b[0m\n\u001b[0;32m      3\u001b[0m \u001b[1;32mfor\u001b[0m \u001b[0md\u001b[0m \u001b[1;32min\u001b[0m \u001b[0moffices_list\u001b[0m\u001b[1;33m:\u001b[0m\u001b[1;33m\u001b[0m\u001b[1;33m\u001b[0m\u001b[0m\n\u001b[0;32m      4\u001b[0m     folium.CircleMarker(\n\u001b[1;32m----> 5\u001b[1;33m     \u001b[1;33m[\u001b[0m\u001b[0mfloat\u001b[0m\u001b[1;33m(\u001b[0m\u001b[0md\u001b[0m\u001b[1;33m[\u001b[0m\u001b[1;34m'latitude'\u001b[0m\u001b[1;33m]\u001b[0m\u001b[1;33m)\u001b[0m\u001b[1;33m,\u001b[0m \u001b[0mfloat\u001b[0m\u001b[1;33m(\u001b[0m\u001b[0md\u001b[0m\u001b[1;33m[\u001b[0m\u001b[1;34m'longitude'\u001b[0m\u001b[1;33m]\u001b[0m\u001b[1;33m)\u001b[0m\u001b[1;33m]\u001b[0m\u001b[1;33m,\u001b[0m\u001b[1;33m\u001b[0m\u001b[1;33m\u001b[0m\u001b[0m\n\u001b[0m\u001b[0;32m      6\u001b[0m         \u001b[0mradius\u001b[0m \u001b[1;33m=\u001b[0m \u001b[1;36m5\u001b[0m\u001b[1;33m,\u001b[0m\u001b[1;33m\u001b[0m\u001b[1;33m\u001b[0m\u001b[0m\n\u001b[0;32m      7\u001b[0m         \u001b[0mpopup\u001b[0m \u001b[1;33m=\u001b[0m \u001b[0md\u001b[0m\u001b[1;33m[\u001b[0m\u001b[1;34m'office'\u001b[0m\u001b[1;33m]\u001b[0m\u001b[1;33m.\u001b[0m\u001b[0mtranslate\u001b[0m\u001b[1;33m(\u001b[0m\u001b[0mstr\u001b[0m\u001b[1;33m.\u001b[0m\u001b[0mmaketrans\u001b[0m\u001b[1;33m(\u001b[0m\u001b[1;34m''\u001b[0m\u001b[1;33m,\u001b[0m \u001b[1;34m''\u001b[0m\u001b[1;33m,\u001b[0m \u001b[0mstring\u001b[0m\u001b[1;33m.\u001b[0m\u001b[0mpunctuation\u001b[0m\u001b[1;33m)\u001b[0m\u001b[1;33m)\u001b[0m\u001b[1;33m,\u001b[0m\u001b[1;33m\u001b[0m\u001b[1;33m\u001b[0m\u001b[0m\n",
      "\u001b[1;31mTypeError\u001b[0m: 'int' object is not subscriptable"
     ]
    }
   ],
   "source": [
    "office_map = folium.Map(location = [ban_lat, ban_lon], zoom_start=11, tiles = \"Stamen Terrain\")\n",
    "\n",
    "for d in offices_list:\n",
    "    folium.CircleMarker(\n",
    "    [float(d['latitude']), float(d['longitude'])],\n",
    "        radius = 5, \n",
    "        popup = d['office'].translate(str.maketrans('', '', string.punctuation)),\n",
    "        fill = True,\n",
    "        color = '#0012EE',\n",
    "        fill_color = 'red',\n",
    "        fill_opacity = 0.5\n",
    "    ).add_to(office_map)\n",
    "    \n",
    "office_map"
   ]
  },
  {
   "cell_type": "markdown",
   "metadata": {},
   "source": [
    "### Using the FourSquare Venues API to find all food related categories"
   ]
  },
  {
   "cell_type": "code",
   "execution_count": null,
   "metadata": {},
   "outputs": [],
   "source": [
    "url = 'https://api.foursquare.com/v2/venues/categories?&client_id={}&client_secret={}&v={}'.format(\n",
    "    CLIENT_ID,\n",
    "    CLIENT_SECRET,\n",
    "    VERSION,)\n",
    "\n",
    "results = requests.get(url).json()"
   ]
  },
  {
   "cell_type": "code",
   "execution_count": null,
   "metadata": {},
   "outputs": [],
   "source": [
    "food_categs = []\n",
    "for i in results['response']['categories'][3]['categories']:\n",
    "    food_categs.append(i['name'])\n",
    "print(len(food_categs))"
   ]
  },
  {
   "cell_type": "markdown",
   "metadata": {},
   "source": [
    "We have 91 food related categories"
   ]
  },
  {
   "cell_type": "code",
   "execution_count": null,
   "metadata": {},
   "outputs": [],
   "source": [
    "food_categs[:5]"
   ]
  },
  {
   "cell_type": "markdown",
   "metadata": {},
   "source": [
    "### Function to generate a random color hex code (for use in map making):"
   ]
  },
  {
   "cell_type": "code",
   "execution_count": null,
   "metadata": {},
   "outputs": [],
   "source": [
    "import random\n",
    "def randomcol():\n",
    "    r = lambda: random.randint(0,255)\n",
    "    return('#%02X%02X%02X' % (r(),r(),r()))"
   ]
  },
  {
   "cell_type": "markdown",
   "metadata": {},
   "source": [
    "### Function to extract the category of a venue from a dataframe"
   ]
  },
  {
   "cell_type": "code",
   "execution_count": null,
   "metadata": {},
   "outputs": [],
   "source": [
    "def get_category_type(row):\n",
    "    try:\n",
    "        categories_list = row['categories']\n",
    "    except:\n",
    "        categories_list = row['venue.categories']\n",
    "\n",
    "    if len(categories_list) == 0:\n",
    "        return None\n",
    "    else:\n",
    "        return categories_list[0]['name']"
   ]
  },
  {
   "cell_type": "markdown",
   "metadata": {},
   "source": [
    "## Main plotting function for all institutes and all the food venues within 1500 metres"
   ]
  },
  {
   "cell_type": "code",
   "execution_count": null,
   "metadata": {},
   "outputs": [],
   "source": [
    "main_map = folium.Map(location=[mum_lat, mum_lon], zoom_start=11, tiles = \"Stamen Terrain\")\n",
    "radius = 1500\n",
    "\n",
    "eatery_data = []\n",
    "\n",
    "def fullplot():\n",
    "    for i in institutes:\n",
    "        name = i['institute']\n",
    "        print(name, end=' ')\n",
    "        lat = i['latitude']\n",
    "        lon = i['longitude']\n",
    "        \n",
    "        # Using the foursquare venues API to find nearby venues for an institute\n",
    "        url = 'https://api.foursquare.com/v2/venues/explore?&client_id={}&client_secret={}&v={}&ll={},{}&radius={}&limit={}'.format(\n",
    "            CLIENT_ID,\n",
    "            CLIENT_SECRET,\n",
    "            VERSION,\n",
    "            lat,\n",
    "            lon,\n",
    "            radius,\n",
    "            100)\n",
    "        results = requests.get(url).json()\n",
    "        \n",
    "        venues = results['response']['groups'][0]['items']\n",
    "\n",
    "        nearby_venues = json_normalize(venues)  # flatten JSON\n",
    "\n",
    "        # filter columns\n",
    "        filtered_columns = ['venue.name', 'venue.categories',\n",
    "                            'venue.location.lat', 'venue.location.lng']\n",
    "        nearby_venues = nearby_venues.loc[:, filtered_columns]\n",
    "\n",
    "        # filter the category for each row\n",
    "        nearby_venues['venue.categories'] = nearby_venues.apply(\n",
    "            get_category_type, axis=1)\n",
    "\n",
    "        # clean columns\n",
    "        nearby_venues.columns = [col.split(\".\")[-1]\n",
    "                                 for col in nearby_venues.columns]\n",
    "        nearby_venues = nearby_venues[nearby_venues['categories'].isin(\n",
    "            food_categs)]\n",
    "        \n",
    "        print(\", Venues: \",nearby_venues.shape[0])\n",
    "\n",
    "        venues_i = []\n",
    "        for index, row in nearby_venues.iterrows():\n",
    "            d = {}\n",
    "            d['name'] = row['name'].translate(str.maketrans('', '', string.punctuation))\n",
    "            d['lat'] = row['lat']\n",
    "            d['lng'] = row['lng']\n",
    "            venues_i.append(d)\n",
    "        \n",
    "        # Generating a random color\n",
    "        color = randomcol()\n",
    "        \n",
    "        # Plotting venues\n",
    "        for d in venues_i:\n",
    "            folium.CircleMarker(\n",
    "                [float(d['lat']), float(d['lng'])],\n",
    "                radius=1.5,\n",
    "                popup=d['name'].translate(str.maketrans('', '', string.punctuation)),\n",
    "                fill=True,\n",
    "                color=color,\n",
    "                fill_color='blue',\n",
    "                fill_opacity=0.5\n",
    "            ).add_to(main_map)\n",
    "            eatery_data.append(d)\n",
    "        \n",
    "        # Plotting institute\n",
    "        folium.CircleMarker(\n",
    "            [float(lat), float(lon)],\n",
    "            radius=5,\n",
    "            popup=name.translate(str.maketrans('', '', string.punctuation)),\n",
    "            fill=True,\n",
    "            color=color,\n",
    "            fill_color='red'\n",
    "        ).add_to(main_map)\n",
    "        \n",
    "# Calling the function that adds markers to the map\n",
    "fullplot()\n",
    "\n",
    "# Printing our map\n",
    "main_map"
   ]
  },
  {
   "cell_type": "markdown",
   "metadata": {},
   "source": [
    "**The above map is completely interactive**"
   ]
  },
  {
   "cell_type": "markdown",
   "metadata": {},
   "source": [
    "**There is a problem with this map. Some of the venues overlap. So instead of grouping locations based on colleges, we can use clustering**"
   ]
  },
  {
   "cell_type": "markdown",
   "metadata": {},
   "source": [
    "### Institute locations"
   ]
  },
  {
   "cell_type": "code",
   "execution_count": null,
   "metadata": {},
   "outputs": [],
   "source": [
    "instdf = pd.DataFrame(institutes)\n",
    "instdf.head(10)"
   ]
  },
  {
   "cell_type": "markdown",
   "metadata": {},
   "source": [
    "### Eateries locations"
   ]
  },
  {
   "cell_type": "code",
   "execution_count": null,
   "metadata": {},
   "outputs": [],
   "source": [
    "eaterydf = pd.DataFrame(eatery_data)\n",
    "print(len(eaterydf))\n",
    "eaterydf.head(10)"
   ]
  },
  {
   "cell_type": "markdown",
   "metadata": {},
   "source": [
    "## Clustering"
   ]
  },
  {
   "cell_type": "markdown",
   "metadata": {},
   "source": [
    "### Let us cluster the educational institutes first."
   ]
  },
  {
   "cell_type": "code",
   "execution_count": null,
   "metadata": {},
   "outputs": [],
   "source": [
    "num_ci = 6\n",
    "kmeans_inst = KMeans(n_clusters=num_ci, random_state=0).fit(instdf.loc[:, ['latitude', 'longitude']])\n",
    "id_label_inst = kmeans_inst.labels_"
   ]
  },
  {
   "cell_type": "code",
   "execution_count": null,
   "metadata": {},
   "outputs": [],
   "source": [
    "map2 = folium.Map(location=[mum_lat, mum_lon], zoom_start=11, tiles=\"Stamen Terrain\")\n",
    "\n",
    "for i in range(num_ci):\n",
    "    cluster = np.where(id_label_inst == i)[0]\n",
    "    col = randomcol()\n",
    "    for la, lo, name in zip(instdf.latitude[cluster].values, instdf.longitude[cluster].values, instdf.institute[cluster].values):\n",
    "        folium.CircleMarker(\n",
    "            [float(la), float(lo)],\n",
    "            radius=5,\n",
    "            popup=name.translate(str.maketrans('', '', string.punctuation)),\n",
    "            fill=True,\n",
    "            color=col,\n",
    "            fill_color='red'\n",
    "        ).add_to(map2)\n",
    "\n",
    "map2"
   ]
  },
  {
   "cell_type": "markdown",
   "metadata": {},
   "source": [
    "### Now clustering the eateries into 10 groups"
   ]
  },
  {
   "cell_type": "code",
   "execution_count": null,
   "metadata": {},
   "outputs": [],
   "source": [
    "num_ce = 10\n",
    "kmeans_eat = KMeans(n_clusters=num_ce, random_state=0).fit(eaterydf.loc[:, ['lat', 'lng']])\n",
    "id_label_eat = kmeans_eat.labels_"
   ]
  },
  {
   "cell_type": "markdown",
   "metadata": {},
   "source": [
    "### Visualizing the clusters"
   ]
  },
  {
   "cell_type": "code",
   "execution_count": null,
   "metadata": {},
   "outputs": [],
   "source": [
    "map3 = folium.Map(location=[mum_lat, mum_lon], zoom_start=11, tiles = \"Stamen Terrain\")\n",
    "\n",
    "for i in range(num_ci):\n",
    "    cluster = np.where(id_label_inst == i)[0]\n",
    "    col = randomcol()\n",
    "    for la, lo, name in zip(instdf.latitude[cluster].values, instdf.longitude[cluster].values, instdf.institute[cluster].values):\n",
    "        folium.CircleMarker(\n",
    "            [float(la), float(lo)],\n",
    "            radius=5,\n",
    "            popup=name.translate(str.maketrans('', '', string.punctuation)),\n",
    "            fill=True,\n",
    "            color=col,\n",
    "            fill_color='red'\n",
    "        ).add_to(map3)\n",
    "\n",
    "for i in range(num_ce):\n",
    "    cluster = np.where(id_label_eat == i)[0]\n",
    "    col = randomcol()\n",
    "    for la, lo, name in zip(eaterydf.lat[cluster].values, eaterydf.lng[cluster].values, eaterydf.name[cluster].values):\n",
    "        folium.CircleMarker(\n",
    "            [float(la), float(lo)],\n",
    "            radius=1,\n",
    "            popup=str(i)+ \":\"+ name.translate(str.maketrans('', '', string.punctuation)),\n",
    "            fill=True,\n",
    "            color=col,\n",
    "            fill_color='blue',\n",
    "            fill_opacity=0.5\n",
    "        ).add_to(map3)\n",
    "\n",
    "map3"
   ]
  },
  {
   "cell_type": "markdown",
   "metadata": {},
   "source": [
    "Each eatery has a label denoting the cluster it is in."
   ]
  },
  {
   "cell_type": "markdown",
   "metadata": {},
   "source": [
    "### Analysis"
   ]
  },
  {
   "cell_type": "markdown",
   "metadata": {},
   "source": [
    "From the map, we can see that some clusters are much smaller than others. Let us look into the counts for each cluster"
   ]
  },
  {
   "cell_type": "code",
   "execution_count": null,
   "metadata": {},
   "outputs": [],
   "source": [
    "from itertools import groupby\n",
    "\n",
    "counts = [(i, len(list(c))) for i,c in groupby(sorted(id_label_eat))]\n",
    "print(counts)"
   ]
  },
  {
   "cell_type": "markdown",
   "metadata": {},
   "source": [
    "We can see that cluster 1 has a very small number of eateries around it. This is near *Tolani College.*"
   ]
  },
  {
   "cell_type": "markdown",
   "metadata": {},
   "source": [
    "### Inferences from our analysis"
   ]
  },
  {
   "cell_type": "markdown",
   "metadata": {},
   "source": [
    "Cluster 1: **Tolani College** has very few eateries around it. \n",
    "It is a well reputed college in Mumbai and has a large student population.\n",
    "\n",
    "**A good eatery aimed at students, or even at the general public would do well here due to sheer lack of competition in the vicinity.**"
   ]
  },
  {
   "cell_type": "markdown",
   "metadata": {},
   "source": [
    "## Hence we find that the best place for a food shop aimed at students in the age range of 13 to 20 year old will be near Tolani College in Andheri East,  Mumbai"
   ]
  },
  {
   "cell_type": "markdown",
   "metadata": {},
   "source": [
    "## 2nd Result"
   ]
  },
  {
   "cell_type": "markdown",
   "metadata": {},
   "source": [
    "We also find that 2 clusters have approximately *200* eateries near them.\n",
    "\n",
    "**These could be great localities to advertise an upcoming new fast food shop or restaurant.**"
   ]
  },
  {
   "cell_type": "markdown",
   "metadata": {},
   "source": [
    "### The first cluster is near BD Somani College,  Elphinstone College, Jai Hind College and Sophia College. (Cluster 0)\n",
    "\n",
    "### The second is near Mithibai College, Narsee Monjee College and Jamnabai Narsee School. (Cluster 9)\n"
   ]
  },
  {
   "cell_type": "markdown",
   "metadata": {},
   "source": [
    "### Hence these places would be good for advertising an upcoming new eatery."
   ]
  }
 ],
 "metadata": {
  "hide_input": false,
  "kernelspec": {
   "display_name": "Python 3",
   "language": "python",
   "name": "python3"
  },
  "language_info": {
   "codemirror_mode": {
    "name": "ipython",
    "version": 3
   },
   "file_extension": ".py",
   "mimetype": "text/x-python",
   "name": "python",
   "nbconvert_exporter": "python",
   "pygments_lexer": "ipython3",
   "version": "3.7.1"
  },
  "varInspector": {
   "cols": {
    "lenName": 16,
    "lenType": 16,
    "lenVar": 40
   },
   "kernels_config": {
    "python": {
     "delete_cmd_postfix": "",
     "delete_cmd_prefix": "del ",
     "library": "var_list.py",
     "varRefreshCmd": "print(var_dic_list())"
    },
    "r": {
     "delete_cmd_postfix": ") ",
     "delete_cmd_prefix": "rm(",
     "library": "var_list.r",
     "varRefreshCmd": "cat(var_dic_list()) "
    }
   },
   "position": {
    "height": "372px",
    "left": "996px",
    "right": "20px",
    "top": "120px",
    "width": "350px"
   },
   "types_to_exclude": [
    "module",
    "function",
    "builtin_function_or_method",
    "instance",
    "_Feature"
   ],
   "window_display": false
  }
 },
 "nbformat": 4,
 "nbformat_minor": 2
}
